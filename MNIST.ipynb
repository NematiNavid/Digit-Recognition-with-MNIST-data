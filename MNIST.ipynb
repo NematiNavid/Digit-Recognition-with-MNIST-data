{
 "cells": [
  {
   "cell_type": "code",
   "execution_count": 4,
   "metadata": {},
   "outputs": [],
   "source": [
    "import math\n",
    "import numpy as np\n",
    "import h5py\n",
    "import matplotlib.pyplot as plt\n",
    "import tensorflow as tf\n",
    "from keras.preprocessing.image import ImageDataGenerator\n",
    "from tensorflow.python.framework import ops\n",
    "import pandas as pd\n",
    "%matplotlib inline\n",
    "\n",
    "\n",
    "#import os\n",
    "#for dirname, _, filenames in os.walk('/kaggle/input/'):\n",
    "#    for filename in filenames:\n",
    "#        print(os.path.join(dirname, filename))\n"
   ]
  },
  {
   "cell_type": "code",
   "execution_count": 6,
   "metadata": {},
   "outputs": [],
   "source": [
    "Data_set = pd.read_csv('train.csv')\n",
    "Test_set = pd.read_csv('test.csv')"
   ]
  },
  {
   "cell_type": "code",
   "execution_count": 7,
   "metadata": {},
   "outputs": [],
   "source": [
    "x_train = Data_set.iloc[:,1:]\n",
    "y_train = Data_set.iloc[:,0]"
   ]
  },
  {
   "cell_type": "code",
   "execution_count": 8,
   "metadata": {},
   "outputs": [],
   "source": [
    "# Reshaping\n",
    "x_train = np.array(x_train).reshape(-1,28,28,1)\n",
    "\n",
    "train_datagen = ImageDataGenerator(\n",
    "    rescale = 1./255,\n",
    "    rotation_range=20,\n",
    "    zoom_range=0.2,\n",
    "    width_shift_range = 0.1,\n",
    "    height_shift_range = 0.1,\n",
    "    validation_split=0.2\n",
    ")\n",
    "\n",
    "train_generator = train_datagen.flow(x_train, y_train, batch_size=64, subset='training')\n",
    "validation_generator = train_datagen.flow(x_train, y_train, batch_size=64,subset='validation')"
   ]
  },
  {
   "cell_type": "code",
   "execution_count": 9,
   "metadata": {},
   "outputs": [
    {
     "name": "stdout",
     "output_type": "stream",
     "text": [
      "Model: \"sequential\"\n",
      "_________________________________________________________________\n",
      "Layer (type)                 Output Shape              Param #   \n",
      "=================================================================\n",
      "conv2d (Conv2D)              (None, 24, 24, 32)        832       \n",
      "_________________________________________________________________\n",
      "max_pooling2d (MaxPooling2D) (None, 12, 12, 32)        0         \n",
      "_________________________________________________________________\n",
      "conv2d_1 (Conv2D)            (None, 8, 8, 64)          51264     \n",
      "_________________________________________________________________\n",
      "max_pooling2d_1 (MaxPooling2 (None, 4, 4, 64)          0         \n",
      "_________________________________________________________________\n",
      "flatten (Flatten)            (None, 1024)              0         \n",
      "_________________________________________________________________\n",
      "dense (Dense)                (None, 256)               262400    \n",
      "_________________________________________________________________\n",
      "dense_1 (Dense)              (None, 32)                8224      \n",
      "_________________________________________________________________\n",
      "dense_2 (Dense)              (None, 10)                330       \n",
      "=================================================================\n",
      "Total params: 323,050\n",
      "Trainable params: 323,050\n",
      "Non-trainable params: 0\n",
      "_________________________________________________________________\n"
     ]
    }
   ],
   "source": [
    "# Initialising the CNN\n",
    "cnn = tf.keras.models.Sequential()\n",
    "\n",
    "# Step 1 - Convolution\n",
    "cnn.add(tf.keras.layers.Conv2D(filters=32, kernel_size=5, activation='relu', input_shape=[28,28, 1]))\n",
    "\n",
    "# Step 2 - Pooling\n",
    "cnn.add(tf.keras.layers.MaxPool2D(pool_size=2, strides=2))\n",
    "\n",
    "# Adding a second convolutional layer\n",
    "cnn.add(tf.keras.layers.Conv2D(filters=64, kernel_size=5, activation='relu'))\n",
    "cnn.add(tf.keras.layers.MaxPool2D(pool_size=2, strides=2))\n",
    "\n",
    "# Step 3 - Flattening\n",
    "cnn.add(tf.keras.layers.Flatten())\n",
    "\n",
    "# Step 4 - Full Connection\n",
    "cnn.add(tf.keras.layers.Dense(units=256, activation='relu'))\n",
    "\n",
    "# Step 4 - Full Connection\n",
    "cnn.add(tf.keras.layers.Dense(units=32, activation='relu'))\n",
    "\n",
    "\n",
    "\n",
    "# Step 5 - Output Layer\n",
    "cnn.add(tf.keras.layers.Dense(units=10, activation='softmax'))\n",
    "\n",
    "# Compiling the CNN\n",
    "cnn.compile(optimizer = 'adam', loss = 'sparse_categorical_crossentropy', metrics = ['accuracy'])\n",
    "cnn.summary()"
   ]
  },
  {
   "cell_type": "code",
   "execution_count": 10,
   "metadata": {},
   "outputs": [
    {
     "name": "stdout",
     "output_type": "stream",
     "text": [
      "Epoch 1/100\n",
      "525/525 [==============================] - 37s 69ms/step - loss: 0.4560 - accuracy: 0.8555 - val_loss: 0.1797 - val_accuracy: 0.9426\n",
      "Epoch 2/100\n",
      "525/525 [==============================] - 35s 66ms/step - loss: 0.1476 - accuracy: 0.9550 - val_loss: 0.1164 - val_accuracy: 0.9646\n",
      "Epoch 3/100\n",
      "525/525 [==============================] - 35s 66ms/step - loss: 0.1037 - accuracy: 0.9682 - val_loss: 0.0926 - val_accuracy: 0.9710\n",
      "Epoch 4/100\n",
      "525/525 [==============================] - 34s 66ms/step - loss: 0.0855 - accuracy: 0.9741 - val_loss: 0.0931 - val_accuracy: 0.9699\n",
      "Epoch 5/100\n",
      "525/525 [==============================] - 34s 65ms/step - loss: 0.0743 - accuracy: 0.9773 - val_loss: 0.0701 - val_accuracy: 0.9780\n",
      "Epoch 6/100\n",
      "525/525 [==============================] - 34s 65ms/step - loss: 0.0681 - accuracy: 0.9786 - val_loss: 0.0739 - val_accuracy: 0.9769\n",
      "Epoch 7/100\n",
      "525/525 [==============================] - 34s 66ms/step - loss: 0.0670 - accuracy: 0.9796 - val_loss: 0.0717 - val_accuracy: 0.9768\n",
      "Epoch 8/100\n",
      "525/525 [==============================] - 34s 65ms/step - loss: 0.0585 - accuracy: 0.9815 - val_loss: 0.0758 - val_accuracy: 0.9769\n",
      "Epoch 9/100\n",
      "525/525 [==============================] - 35s 66ms/step - loss: 0.0565 - accuracy: 0.9826 - val_loss: 0.0577 - val_accuracy: 0.9823\n",
      "Epoch 10/100\n",
      "525/525 [==============================] - 35s 66ms/step - loss: 0.0526 - accuracy: 0.9842 - val_loss: 0.0548 - val_accuracy: 0.9830\n",
      "Epoch 11/100\n",
      "525/525 [==============================] - 35s 66ms/step - loss: 0.0489 - accuracy: 0.9844 - val_loss: 0.0521 - val_accuracy: 0.9839\n",
      "Epoch 12/100\n",
      "525/525 [==============================] - 35s 66ms/step - loss: 0.0488 - accuracy: 0.9849 - val_loss: 0.0570 - val_accuracy: 0.9817\n",
      "Epoch 13/100\n",
      "525/525 [==============================] - 34s 65ms/step - loss: 0.0445 - accuracy: 0.9866 - val_loss: 0.0692 - val_accuracy: 0.9788\n",
      "Epoch 14/100\n",
      "525/525 [==============================] - 34s 65ms/step - loss: 0.0441 - accuracy: 0.9858 - val_loss: 0.0545 - val_accuracy: 0.9829\n",
      "Epoch 15/100\n",
      "525/525 [==============================] - 35s 66ms/step - loss: 0.0444 - accuracy: 0.9860 - val_loss: 0.0550 - val_accuracy: 0.9837\n",
      "Epoch 16/100\n",
      "525/525 [==============================] - 34s 65ms/step - loss: 0.0392 - accuracy: 0.9879 - val_loss: 0.0499 - val_accuracy: 0.9831\n",
      "Epoch 17/100\n",
      "525/525 [==============================] - 35s 66ms/step - loss: 0.0400 - accuracy: 0.9878 - val_loss: 0.0504 - val_accuracy: 0.9850\n",
      "Epoch 18/100\n",
      "525/525 [==============================] - 35s 66ms/step - loss: 0.0364 - accuracy: 0.9888 - val_loss: 0.0478 - val_accuracy: 0.9857\n",
      "Epoch 19/100\n",
      "525/525 [==============================] - 35s 66ms/step - loss: 0.0349 - accuracy: 0.9891 - val_loss: 0.0527 - val_accuracy: 0.9854\n",
      "Epoch 20/100\n",
      "525/525 [==============================] - 35s 66ms/step - loss: 0.0370 - accuracy: 0.9883 - val_loss: 0.0537 - val_accuracy: 0.9838\n",
      "Epoch 21/100\n",
      "525/525 [==============================] - 35s 66ms/step - loss: 0.0359 - accuracy: 0.9896 - val_loss: 0.0464 - val_accuracy: 0.9868\n",
      "Epoch 22/100\n",
      "525/525 [==============================] - 35s 67ms/step - loss: 0.0314 - accuracy: 0.9899 - val_loss: 0.0705 - val_accuracy: 0.9804\n",
      "Epoch 23/100\n",
      "525/525 [==============================] - 35s 66ms/step - loss: 0.0329 - accuracy: 0.9899 - val_loss: 0.0491 - val_accuracy: 0.9843\n",
      "Epoch 24/100\n",
      "525/525 [==============================] - 34s 65ms/step - loss: 0.0311 - accuracy: 0.9898 - val_loss: 0.0464 - val_accuracy: 0.9881\n",
      "Epoch 25/100\n",
      "525/525 [==============================] - 34s 65ms/step - loss: 0.0306 - accuracy: 0.9906 - val_loss: 0.0498 - val_accuracy: 0.9856\n",
      "Epoch 26/100\n",
      "525/525 [==============================] - 34s 65ms/step - loss: 0.0348 - accuracy: 0.9889 - val_loss: 0.0427 - val_accuracy: 0.9862\n",
      "Epoch 27/100\n",
      "525/525 [==============================] - 35s 66ms/step - loss: 0.0312 - accuracy: 0.9902 - val_loss: 0.0407 - val_accuracy: 0.9869\n",
      "Epoch 28/100\n",
      "525/525 [==============================] - 35s 66ms/step - loss: 0.0309 - accuracy: 0.9912 - val_loss: 0.0526 - val_accuracy: 0.9845\n",
      "Epoch 29/100\n",
      "525/525 [==============================] - 35s 66ms/step - loss: 0.0289 - accuracy: 0.9910 - val_loss: 0.0421 - val_accuracy: 0.9887\n",
      "Epoch 30/100\n",
      "525/525 [==============================] - 35s 66ms/step - loss: 0.0265 - accuracy: 0.9916 - val_loss: 0.0467 - val_accuracy: 0.9848\n",
      "Epoch 31/100\n",
      "525/525 [==============================] - 35s 66ms/step - loss: 0.0268 - accuracy: 0.9914 - val_loss: 0.0422 - val_accuracy: 0.9883\n",
      "Epoch 32/100\n",
      "525/525 [==============================] - 35s 66ms/step - loss: 0.0290 - accuracy: 0.9907 - val_loss: 0.0405 - val_accuracy: 0.9871\n",
      "Epoch 33/100\n",
      "525/525 [==============================] - 34s 65ms/step - loss: 0.0262 - accuracy: 0.9916 - val_loss: 0.0483 - val_accuracy: 0.9870\n",
      "Epoch 34/100\n",
      "525/525 [==============================] - 34s 65ms/step - loss: 0.0278 - accuracy: 0.9916 - val_loss: 0.0322 - val_accuracy: 0.9902\n",
      "Epoch 35/100\n",
      "525/525 [==============================] - 35s 66ms/step - loss: 0.0253 - accuracy: 0.9915 - val_loss: 0.0413 - val_accuracy: 0.9871\n",
      "Epoch 36/100\n",
      "525/525 [==============================] - 40s 76ms/step - loss: 0.0268 - accuracy: 0.9910 - val_loss: 0.0388 - val_accuracy: 0.9890\n",
      "Epoch 37/100\n",
      "525/525 [==============================] - 41s 78ms/step - loss: 0.0242 - accuracy: 0.9925 - val_loss: 0.0432 - val_accuracy: 0.9882\n",
      "Epoch 38/100\n",
      "525/525 [==============================] - 35s 67ms/step - loss: 0.0233 - accuracy: 0.9927 - val_loss: 0.0463 - val_accuracy: 0.9871\n",
      "Epoch 39/100\n",
      "525/525 [==============================] - 35s 67ms/step - loss: 0.0263 - accuracy: 0.9919 - val_loss: 0.0411 - val_accuracy: 0.9894\n",
      "Epoch 40/100\n",
      "525/525 [==============================] - 36s 68ms/step - loss: 0.0226 - accuracy: 0.9936 - val_loss: 0.0464 - val_accuracy: 0.9869\n",
      "Epoch 41/100\n",
      "525/525 [==============================] - 36s 68ms/step - loss: 0.0268 - accuracy: 0.9917 - val_loss: 0.0409 - val_accuracy: 0.9886\n",
      "Epoch 42/100\n",
      "525/525 [==============================] - 36s 68ms/step - loss: 0.0237 - accuracy: 0.9928 - val_loss: 0.0378 - val_accuracy: 0.9896\n",
      "Epoch 43/100\n",
      "525/525 [==============================] - 36s 68ms/step - loss: 0.0221 - accuracy: 0.9930 - val_loss: 0.0355 - val_accuracy: 0.9873\n",
      "Epoch 44/100\n",
      "525/525 [==============================] - 37s 70ms/step - loss: 0.0252 - accuracy: 0.9920 - val_loss: 0.0478 - val_accuracy: 0.9867\n",
      "Epoch 45/100\n",
      "525/525 [==============================] - 38s 73ms/step - loss: 0.0231 - accuracy: 0.9929 - val_loss: 0.0342 - val_accuracy: 0.9899\n",
      "Epoch 46/100\n",
      "525/525 [==============================] - 37s 70ms/step - loss: 0.0236 - accuracy: 0.9932 - val_loss: 0.0313 - val_accuracy: 0.9907\n",
      "Epoch 47/100\n",
      "525/525 [==============================] - 37s 70ms/step - loss: 0.0229 - accuracy: 0.9929 - val_loss: 0.0456 - val_accuracy: 0.9879\n",
      "Epoch 48/100\n",
      "525/525 [==============================] - 36s 69ms/step - loss: 0.0227 - accuracy: 0.9930 - val_loss: 0.0368 - val_accuracy: 0.9889\n",
      "Epoch 49/100\n",
      "525/525 [==============================] - 35s 67ms/step - loss: 0.0194 - accuracy: 0.9939 - val_loss: 0.0364 - val_accuracy: 0.9907\n",
      "Epoch 50/100\n",
      "525/525 [==============================] - 36s 68ms/step - loss: 0.0231 - accuracy: 0.9929 - val_loss: 0.0400 - val_accuracy: 0.9871\n",
      "Epoch 51/100\n",
      "525/525 [==============================] - 35s 67ms/step - loss: 0.0238 - accuracy: 0.9928 - val_loss: 0.0382 - val_accuracy: 0.9890\n",
      "Epoch 52/100\n",
      "525/525 [==============================] - 36s 68ms/step - loss: 0.0202 - accuracy: 0.9936 - val_loss: 0.0382 - val_accuracy: 0.9892\n",
      "Epoch 53/100\n",
      "525/525 [==============================] - 35s 67ms/step - loss: 0.0212 - accuracy: 0.9939 - val_loss: 0.0466 - val_accuracy: 0.9885\n",
      "Epoch 54/100\n",
      "525/525 [==============================] - 36s 68ms/step - loss: 0.0204 - accuracy: 0.9936 - val_loss: 0.0371 - val_accuracy: 0.9886\n",
      "Epoch 55/100\n",
      "525/525 [==============================] - 36s 68ms/step - loss: 0.0197 - accuracy: 0.9937 - val_loss: 0.0552 - val_accuracy: 0.9854\n",
      "Epoch 56/100\n",
      "525/525 [==============================] - 35s 67ms/step - loss: 0.0203 - accuracy: 0.9938 - val_loss: 0.0336 - val_accuracy: 0.9898\n",
      "Epoch 57/100\n"
     ]
    },
    {
     "name": "stdout",
     "output_type": "stream",
     "text": [
      "525/525 [==============================] - 34s 65ms/step - loss: 0.0197 - accuracy: 0.9938 - val_loss: 0.0410 - val_accuracy: 0.9889\n",
      "Epoch 58/100\n",
      "525/525 [==============================] - 34s 65ms/step - loss: 0.0190 - accuracy: 0.9943 - val_loss: 0.0400 - val_accuracy: 0.9892\n",
      "Epoch 59/100\n",
      "525/525 [==============================] - 34s 65ms/step - loss: 0.0198 - accuracy: 0.9939 - val_loss: 0.0479 - val_accuracy: 0.9880\n",
      "Epoch 60/100\n",
      "525/525 [==============================] - 34s 64ms/step - loss: 0.0212 - accuracy: 0.9934 - val_loss: 0.0387 - val_accuracy: 0.9892\n",
      "Epoch 61/100\n",
      "525/525 [==============================] - 35s 66ms/step - loss: 0.0184 - accuracy: 0.9945 - val_loss: 0.0327 - val_accuracy: 0.9907\n",
      "Epoch 62/100\n",
      "525/525 [==============================] - 34s 65ms/step - loss: 0.0195 - accuracy: 0.9944 - val_loss: 0.0370 - val_accuracy: 0.9885\n",
      "Epoch 63/100\n",
      "525/525 [==============================] - 34s 65ms/step - loss: 0.0179 - accuracy: 0.9945 - val_loss: 0.0484 - val_accuracy: 0.9882\n",
      "Epoch 64/100\n",
      "525/525 [==============================] - 34s 65ms/step - loss: 0.0204 - accuracy: 0.9936 - val_loss: 0.0349 - val_accuracy: 0.9900\n",
      "Epoch 65/100\n",
      "525/525 [==============================] - 34s 65ms/step - loss: 0.0181 - accuracy: 0.9944 - val_loss: 0.0453 - val_accuracy: 0.9877\n",
      "Epoch 66/100\n",
      "525/525 [==============================] - 34s 65ms/step - loss: 0.0176 - accuracy: 0.9943 - val_loss: 0.0440 - val_accuracy: 0.9882\n",
      "Epoch 67/100\n",
      "525/525 [==============================] - 34s 64ms/step - loss: 0.0205 - accuracy: 0.9940 - val_loss: 0.0371 - val_accuracy: 0.9890\n",
      "Epoch 68/100\n",
      "525/525 [==============================] - 35s 66ms/step - loss: 0.0168 - accuracy: 0.9949 - val_loss: 0.0390 - val_accuracy: 0.9904\n",
      "Epoch 69/100\n",
      "525/525 [==============================] - 34s 66ms/step - loss: 0.0165 - accuracy: 0.9949 - val_loss: 0.0401 - val_accuracy: 0.9893\n",
      "Epoch 70/100\n",
      "525/525 [==============================] - 34s 64ms/step - loss: 0.0178 - accuracy: 0.9944 - val_loss: 0.0353 - val_accuracy: 0.9896\n",
      "Epoch 71/100\n",
      "525/525 [==============================] - 36s 69ms/step - loss: 0.0191 - accuracy: 0.9943 - val_loss: 0.0389 - val_accuracy: 0.9910\n",
      "Epoch 72/100\n",
      "525/525 [==============================] - 34s 66ms/step - loss: 0.0173 - accuracy: 0.9946 - val_loss: 0.0384 - val_accuracy: 0.9902\n",
      "Epoch 73/100\n",
      "525/525 [==============================] - 35s 66ms/step - loss: 0.0158 - accuracy: 0.9951 - val_loss: 0.0414 - val_accuracy: 0.9885\n",
      "Epoch 74/100\n",
      "525/525 [==============================] - 34s 66ms/step - loss: 0.0180 - accuracy: 0.9944 - val_loss: 0.0386 - val_accuracy: 0.9895\n",
      "Epoch 75/100\n",
      "525/525 [==============================] - 34s 65ms/step - loss: 0.0151 - accuracy: 0.9952 - val_loss: 0.0344 - val_accuracy: 0.9917\n",
      "Epoch 76/100\n",
      "525/525 [==============================] - 35s 66ms/step - loss: 0.0172 - accuracy: 0.9946 - val_loss: 0.0415 - val_accuracy: 0.9895\n",
      "Epoch 77/100\n",
      "525/525 [==============================] - 37s 71ms/step - loss: 0.0185 - accuracy: 0.9946 - val_loss: 0.0338 - val_accuracy: 0.9906\n",
      "Epoch 78/100\n",
      "525/525 [==============================] - 35s 66ms/step - loss: 0.0181 - accuracy: 0.9939 - val_loss: 0.0460 - val_accuracy: 0.9881\n",
      "Epoch 79/100\n",
      "525/525 [==============================] - 35s 67ms/step - loss: 0.0151 - accuracy: 0.9950 - val_loss: 0.0486 - val_accuracy: 0.9886\n",
      "Epoch 80/100\n",
      "525/525 [==============================] - 35s 67ms/step - loss: 0.0187 - accuracy: 0.9940 - val_loss: 0.0363 - val_accuracy: 0.9914\n",
      "Epoch 81/100\n",
      "525/525 [==============================] - 34s 65ms/step - loss: 0.0165 - accuracy: 0.9949 - val_loss: 0.0416 - val_accuracy: 0.9888\n",
      "Epoch 82/100\n",
      "525/525 [==============================] - 40s 76ms/step - loss: 0.0169 - accuracy: 0.9947 - val_loss: 0.0432 - val_accuracy: 0.9893\n",
      "Epoch 83/100\n",
      "525/525 [==============================] - 35s 67ms/step - loss: 0.0158 - accuracy: 0.9956 - val_loss: 0.0452 - val_accuracy: 0.9885\n",
      "Epoch 84/100\n",
      "525/525 [==============================] - 35s 67ms/step - loss: 0.0142 - accuracy: 0.9952 - val_loss: 0.0422 - val_accuracy: 0.9907\n",
      "Epoch 85/100\n",
      "525/525 [==============================] - 35s 68ms/step - loss: 0.0176 - accuracy: 0.9949 - val_loss: 0.0459 - val_accuracy: 0.9879\n",
      "Epoch 86/100\n",
      "525/525 [==============================] - 36s 69ms/step - loss: 0.0150 - accuracy: 0.9955 - val_loss: 0.0428 - val_accuracy: 0.9904\n",
      "Epoch 87/100\n",
      "525/525 [==============================] - 35s 66ms/step - loss: 0.0160 - accuracy: 0.9951 - val_loss: 0.0390 - val_accuracy: 0.9893\n",
      "Epoch 88/100\n",
      "525/525 [==============================] - 35s 68ms/step - loss: 0.0176 - accuracy: 0.9949 - val_loss: 0.0419 - val_accuracy: 0.9870\n",
      "Epoch 89/100\n",
      "525/525 [==============================] - 35s 67ms/step - loss: 0.0155 - accuracy: 0.9953 - val_loss: 0.0458 - val_accuracy: 0.9890\n",
      "Epoch 90/100\n",
      "525/525 [==============================] - 35s 67ms/step - loss: 0.0165 - accuracy: 0.9949 - val_loss: 0.0450 - val_accuracy: 0.9889\n",
      "Epoch 91/100\n",
      "525/525 [==============================] - 35s 67ms/step - loss: 0.0154 - accuracy: 0.9955 - val_loss: 0.0430 - val_accuracy: 0.9898\n",
      "Epoch 92/100\n",
      "525/525 [==============================] - 35s 67ms/step - loss: 0.0156 - accuracy: 0.9953 - val_loss: 0.0436 - val_accuracy: 0.9900\n",
      "Epoch 93/100\n",
      "525/525 [==============================] - 35s 67ms/step - loss: 0.0158 - accuracy: 0.9952 - val_loss: 0.0387 - val_accuracy: 0.9902\n",
      "Epoch 94/100\n",
      "525/525 [==============================] - 36s 68ms/step - loss: 0.0152 - accuracy: 0.9956 - val_loss: 0.0506 - val_accuracy: 0.9882\n",
      "Epoch 95/100\n",
      "525/525 [==============================] - 36s 68ms/step - loss: 0.0173 - accuracy: 0.9943 - val_loss: 0.0387 - val_accuracy: 0.9895\n",
      "Epoch 96/100\n",
      "525/525 [==============================] - 35s 67ms/step - loss: 0.0134 - accuracy: 0.9960 - val_loss: 0.0311 - val_accuracy: 0.9921\n",
      "Epoch 97/100\n",
      "525/525 [==============================] - 36s 68ms/step - loss: 0.0150 - accuracy: 0.9956 - val_loss: 0.0380 - val_accuracy: 0.9905\n",
      "Epoch 98/100\n",
      "525/525 [==============================] - 35s 67ms/step - loss: 0.0154 - accuracy: 0.9952 - val_loss: 0.0391 - val_accuracy: 0.9893\n",
      "Epoch 99/100\n",
      "525/525 [==============================] - 36s 68ms/step - loss: 0.0144 - accuracy: 0.9953 - val_loss: 0.0473 - val_accuracy: 0.9888\n",
      "Epoch 100/100\n",
      "525/525 [==============================] - 35s 67ms/step - loss: 0.0142 - accuracy: 0.9958 - val_loss: 0.0478 - val_accuracy: 0.9868\n"
     ]
    }
   ],
   "source": [
    "history = cnn.fit(train_generator, validation_data = validation_generator, epochs = 100)"
   ]
  },
  {
   "cell_type": "code",
   "execution_count": 11,
   "metadata": {},
   "outputs": [
    {
     "data": {
      "image/png": "[encoded data removed]",
      "text/plain": [
       "<Figure size 1080x504 with 2 Axes>"
      ]
     },
     "metadata": {
      "needs_background": "light"
     },
     "output_type": "display_data"
    }
   ],
   "source": [
    "def acc_loss_plot():\n",
    "    fig, ax = plt.subplots(1,2,figsize=(15,7))\n",
    "    ax[0].plot(history.history['accuracy'])\n",
    "    ax[0].plot(history.history['val_accuracy'])\n",
    "    ax[0].set_title('Accuracy')\n",
    "    ax[0].set_ylabel('Accuracy')\n",
    "    ax[0].set_xlabel('Epoch')\n",
    "    ax[0].legend(['train', 'validation'], loc='lower right')\n",
    "    ax[0].grid()\n",
    "    ax[1].plot(history.history['loss'])\n",
    "    ax[1].plot(history.history['val_loss'])\n",
    "    ax[1].set_title('Loss')\n",
    "    ax[1].set_ylabel('Loss')\n",
    "    ax[1].set_xlabel('Epoch')\n",
    "    ax[1].legend(['train', 'validation'], loc='upper right')\n",
    "    ax[1].grid()\n",
    "    plt.show()\n",
    "\n",
    "acc_loss_plot()"
   ]
  },
  {
   "cell_type": "code",
   "execution_count": 12,
   "metadata": {},
   "outputs": [],
   "source": [
    "test = np.array(Test_set).reshape(-1, 28, 28 , 1) / 255"
   ]
  },
  {
   "cell_type": "code",
   "execution_count": 13,
   "metadata": {},
   "outputs": [],
   "source": [
    "preds = cnn.predict(test)"
   ]
  },
  {
   "cell_type": "code",
   "execution_count": 14,
   "metadata": {},
   "outputs": [],
   "source": [
    "result = np.argmax(preds,axis=1)"
   ]
  },
  {
   "cell_type": "code",
   "execution_count": 15,
   "metadata": {},
   "outputs": [
    {
     "name": "stdout",
     "output_type": "stream",
     "text": [
      "[2 0 9 ... 3 9 2]\n"
     ]
    }
   ],
   "source": [
    "print(result)"
   ]
  },
  {
   "cell_type": "code",
   "execution_count": null,
   "metadata": {},
   "outputs": [],
   "source": [
    "#Sub =pd.read_csv('/kaggle/input/digit-recognizer/sample_submission.csv')"
   ]
  },
  {
   "cell_type": "code",
   "execution_count": null,
   "metadata": {},
   "outputs": [],
   "source": [
    "#Sub[\"Label\"] = result"
   ]
  },
  {
   "cell_type": "code",
   "execution_count": null,
   "metadata": {},
   "outputs": [],
   "source": [
    " #Sub.to_csv('submission.csv', index=False)"
   ]
  }
 ],
 "metadata": {
  "kernelspec": {
   "display_name": "Python 3",
   "language": "python",
   "name": "python3"
  },
  "language_info": {
   "codemirror_mode": {
    "name": "ipython",
    "version": 3
   },
   "file_extension": ".py",
   "mimetype": "text/x-python",
   "name": "python",
   "nbconvert_exporter": "python",
   "pygments_lexer": "ipython3",
   "version": "3.7.3"
  }
 },
 "nbformat": 4,
 "nbformat_minor": 2
}
